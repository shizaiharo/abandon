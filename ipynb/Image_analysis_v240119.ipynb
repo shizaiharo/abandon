{
  "cells": [
    {
      "cell_type": "code",
      "execution_count": null,
      "metadata": {
        "id": "nB_mcmF11TU_"
      },
      "outputs": [],
      "source": [
        "from google.colab import output\n",
        "%pip install pyngrok\n",
        "import requests\n",
        "from pyngrok import ngrok\n",
        "!ngrok config add-authtoken 2Op2BVYZQwPsffdxDmedB0U61CB_39QvJkYsecWLaTLbFTiSj\n",
        "output.clear()\n",
        "url = ngrok.connect(6969)\n",
        "url = str(url).split(' \"')[1].split('\" -')[0]\n",
        "print(url)\n",
        "# headers = {\"ngrok-skip-browser-warning\": \"6969\"}\n",
        "# response = requests.get(url, headers=headers)"
      ]
    },
    {
      "cell_type": "code",
      "execution_count": 2,
      "metadata": {
        "id": "B9AmtPy0TQuv"
      },
      "outputs": [],
      "source": [
        "import os\n",
        "from zipfile import ZipFile\n",
        "from google.colab import files, output\n",
        "uploaded = files.upload()\n",
        "folder = list(uploaded.keys())[0]\n",
        "os.makedirs('/content/', exist_ok=True)\n",
        "with ZipFile(folder, 'r') as zip_ref: zip_ref.extractall('/content/')\n",
        "extracted_files = os.listdir('/content/')\n",
        "%pip install -r websitev4/requirements.txt\n",
        "output.clear()\n",
        "os.chdir(folder.split(\".\")[0])"
      ]
    },
    {
      "cell_type": "code",
      "execution_count": null,
      "metadata": {
        "id": "17egOf3jbTy_"
      },
      "outputs": [],
      "source": [
        "!python app.py"
      ]
    }
  ],
  "metadata": {
    "accelerator": "GPU",
    "colab": {
      "provenance": []
    },
    "kernelspec": {
      "display_name": "Python 3",
      "name": "python3"
    },
    "language_info": {
      "name": "python"
    }
  },
  "nbformat": 4,
  "nbformat_minor": 0
}